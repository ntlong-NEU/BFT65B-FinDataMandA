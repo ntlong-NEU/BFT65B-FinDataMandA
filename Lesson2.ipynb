{
 "cells": [
  {
   "cell_type": "markdown",
   "id": "4996a21f",
   "metadata": {},
   "source": [
    "## **Lesson 2: Variables and simple data types**"
   ]
  },
  {
   "cell_type": "code",
   "execution_count": 1,
   "id": "a80c51e3",
   "metadata": {},
   "outputs": [
    {
     "name": "stdout",
     "output_type": "stream",
     "text": [
      "Hello BFT65B\n"
     ]
    }
   ],
   "source": [
    "message = \"Hello BFT65B\"\n",
    "print(message)"
   ]
  },
  {
   "cell_type": "code",
   "execution_count": 2,
   "id": "a43ca7f7",
   "metadata": {},
   "outputs": [
    {
     "name": "stdout",
     "output_type": "stream",
     "text": [
      "this is a string\n"
     ]
    }
   ],
   "source": [
    "str_1 = 'this is a string'\n",
    "print(str_1)"
   ]
  },
  {
   "cell_type": "code",
   "execution_count": 3,
   "id": "87b356c3",
   "metadata": {},
   "outputs": [
    {
     "name": "stdout",
     "output_type": "stream",
     "text": [
      "10\n"
     ]
    }
   ],
   "source": [
    "n = 10\n",
    "print(n)"
   ]
  },
  {
   "cell_type": "code",
   "execution_count": 6,
   "id": "e3f31536",
   "metadata": {},
   "outputs": [
    {
     "name": "stdout",
     "output_type": "stream",
     "text": [
      "10\n"
     ]
    }
   ],
   "source": [
    "a = 10\n",
    "b = a\n",
    "\n",
    "print(b)"
   ]
  },
  {
   "cell_type": "markdown",
   "id": "494c5c2d",
   "metadata": {},
   "source": [
    "**2-1. Simple Message:** Assign a message to a variable, and then print that\n",
    "message.\n"
   ]
  },
  {
   "cell_type": "code",
   "execution_count": 7,
   "id": "ae6f640c",
   "metadata": {},
   "outputs": [
    {
     "name": "stdout",
     "output_type": "stream",
     "text": [
      "this is a message\n"
     ]
    }
   ],
   "source": [
    "mes = 'this is a message'\n",
    "print(mes)"
   ]
  },
  {
   "cell_type": "markdown",
   "id": "7ac3c0ca",
   "metadata": {},
   "source": [
    "**2-2. Simple Messages:** Assign a message to a variable, and print that message.\n",
    "Then change the value of the variable to a new message, and print the new\n",
    "message."
   ]
  },
  {
   "cell_type": "code",
   "execution_count": 9,
   "id": "ded2ba36",
   "metadata": {},
   "outputs": [
    {
     "name": "stdout",
     "output_type": "stream",
     "text": [
      "Fin_Data M&A\n",
      "intr_Fin_Data M&A\n"
     ]
    }
   ],
   "source": [
    "mes1 = 'Fin_Data M&A'\n",
    "print(mes1)\n",
    "mes1 = 'intr_Fin_Data M&A'\n",
    "print(mes1)"
   ]
  },
  {
   "cell_type": "code",
   "execution_count": 16,
   "id": "454f0d6d",
   "metadata": {},
   "outputs": [],
   "source": [
    "mes2 = 'I told my friend: \"Python is my favorite programming language\"'"
   ]
  },
  {
   "cell_type": "code",
   "execution_count": 13,
   "id": "3345cb54",
   "metadata": {},
   "outputs": [],
   "source": [
    "list_names =\"\"\"Đỗ Hoàng Huệ Anh\n",
    "Nguyễn Phan Anh\n",
    "Tô Mai Phương Anh\n",
    "Trần Ngọc Anh\n",
    "Đào Thiện Bản\n",
    "Phạm Anh Chi\n",
    "Thiều Thảo Chi\n",
    "Nguyễn Bá Dương\n",
    "Lê Minh Đạt\n",
    "Đỗ Quang Đồng\n",
    "Lê Nguyễn Trường Giang\n",
    "\"\"\" "
   ]
  },
  {
   "cell_type": "code",
   "execution_count": 15,
   "id": "5874effa",
   "metadata": {},
   "outputs": [
    {
     "name": "stdout",
     "output_type": "stream",
     "text": [
      "Đỗ Hoàng Huệ Anh\n",
      "Nguyễn Phan Anh\n",
      "Tô Mai Phương Anh\n",
      "Trần Ngọc Anh\n",
      "Đào Thiện Bản\n",
      "Phạm Anh Chi\n",
      "Thiều Thảo Chi\n",
      "Nguyễn Bá Dương\n",
      "Lê Minh Đạt\n",
      "Đỗ Quang Đồng\n",
      "Lê Nguyễn Trường Giang\n",
      "\n"
     ]
    }
   ],
   "source": [
    "print(list_names)"
   ]
  },
  {
   "cell_type": "code",
   "execution_count": 20,
   "id": "04a1ea72",
   "metadata": {},
   "outputs": [
    {
     "name": "stdout",
     "output_type": "stream",
     "text": [
      "I Told My Friend: \"Python Is My Favorite Programming Language\"\n",
      "I told my friend: \"Python is my favorite programming language\"\n"
     ]
    }
   ],
   "source": [
    "print(mes2.title())\n",
    "print(mes2)"
   ]
  },
  {
   "cell_type": "code",
   "execution_count": 21,
   "id": "7c806e8f",
   "metadata": {},
   "outputs": [
    {
     "name": "stdout",
     "output_type": "stream",
     "text": [
      "I TOLD MY FRIEND: \"PYTHON IS MY FAVORITE PROGRAMMING LANGUAGE\"\n",
      "I told my friend: \"Python is my favorite programming language\"\n"
     ]
    }
   ],
   "source": [
    "print(mes2.upper())\n",
    "print(mes2)"
   ]
  },
  {
   "cell_type": "code",
   "execution_count": 22,
   "id": "bb72b741",
   "metadata": {},
   "outputs": [
    {
     "name": "stdout",
     "output_type": "stream",
     "text": [
      "i told my friend: \"python is my favorite programming language\"\n",
      "I told my friend: \"Python is my favorite programming language\"\n"
     ]
    }
   ],
   "source": [
    "print(mes2.lower())\n",
    "print(mes2)"
   ]
  },
  {
   "cell_type": "code",
   "execution_count": 23,
   "id": "ae1290b8",
   "metadata": {},
   "outputs": [
    {
     "data": {
      "text/plain": [
       "['__add__',\n",
       " '__class__',\n",
       " '__contains__',\n",
       " '__delattr__',\n",
       " '__dir__',\n",
       " '__doc__',\n",
       " '__eq__',\n",
       " '__format__',\n",
       " '__ge__',\n",
       " '__getattribute__',\n",
       " '__getitem__',\n",
       " '__getnewargs__',\n",
       " '__getstate__',\n",
       " '__gt__',\n",
       " '__hash__',\n",
       " '__init__',\n",
       " '__init_subclass__',\n",
       " '__iter__',\n",
       " '__le__',\n",
       " '__len__',\n",
       " '__lt__',\n",
       " '__mod__',\n",
       " '__mul__',\n",
       " '__ne__',\n",
       " '__new__',\n",
       " '__reduce__',\n",
       " '__reduce_ex__',\n",
       " '__repr__',\n",
       " '__rmod__',\n",
       " '__rmul__',\n",
       " '__setattr__',\n",
       " '__sizeof__',\n",
       " '__str__',\n",
       " '__subclasshook__',\n",
       " 'capitalize',\n",
       " 'casefold',\n",
       " 'center',\n",
       " 'count',\n",
       " 'encode',\n",
       " 'endswith',\n",
       " 'expandtabs',\n",
       " 'find',\n",
       " 'format',\n",
       " 'format_map',\n",
       " 'index',\n",
       " 'isalnum',\n",
       " 'isalpha',\n",
       " 'isascii',\n",
       " 'isdecimal',\n",
       " 'isdigit',\n",
       " 'isidentifier',\n",
       " 'islower',\n",
       " 'isnumeric',\n",
       " 'isprintable',\n",
       " 'isspace',\n",
       " 'istitle',\n",
       " 'isupper',\n",
       " 'join',\n",
       " 'ljust',\n",
       " 'lower',\n",
       " 'lstrip',\n",
       " 'maketrans',\n",
       " 'partition',\n",
       " 'removeprefix',\n",
       " 'removesuffix',\n",
       " 'replace',\n",
       " 'rfind',\n",
       " 'rindex',\n",
       " 'rjust',\n",
       " 'rpartition',\n",
       " 'rsplit',\n",
       " 'rstrip',\n",
       " 'split',\n",
       " 'splitlines',\n",
       " 'startswith',\n",
       " 'strip',\n",
       " 'swapcase',\n",
       " 'title',\n",
       " 'translate',\n",
       " 'upper',\n",
       " 'zfill']"
      ]
     },
     "execution_count": 23,
     "metadata": {},
     "output_type": "execute_result"
    }
   ],
   "source": [
    "dir(mes)"
   ]
  },
  {
   "cell_type": "code",
   "execution_count": 24,
   "id": "147e33a2",
   "metadata": {},
   "outputs": [
    {
     "data": {
      "text/plain": [
       "'i told my friend: \"python is my favorite programming language\"'"
      ]
     },
     "execution_count": 24,
     "metadata": {},
     "output_type": "execute_result"
    }
   ],
   "source": [
    "mes2.lower()"
   ]
  },
  {
   "cell_type": "code",
   "execution_count": 25,
   "id": "7af903b7",
   "metadata": {},
   "outputs": [
    {
     "name": "stdout",
     "output_type": "stream",
     "text": [
      "Tuan Long. Nguyen\n"
     ]
    }
   ],
   "source": [
    "first_name =\"Tuan Long\"\n",
    "last_name = \"Nguyen\"\n",
    "full_name = f\"{first_name}. {last_name}\"\n",
    "print(full_name)"
   ]
  },
  {
   "cell_type": "code",
   "execution_count": 26,
   "id": "11140ca2",
   "metadata": {},
   "outputs": [
    {
     "data": {
      "text/plain": [
       "'Đỗ Hoàng Huệ Anh\\nNguyễn Phan Anh\\nTô Mai Phương Anh\\nTrần Ngọc Anh\\nĐào Thiện Bản\\nPhạm Anh Chi\\nThiều Thảo Chi\\nNguyễn Bá Dương\\nLê Minh Đạt\\nĐỗ Quang Đồng\\nLê Nguyễn Trường Giang\\n'"
      ]
     },
     "execution_count": 26,
     "metadata": {},
     "output_type": "execute_result"
    }
   ],
   "source": [
    "list_names"
   ]
  },
  {
   "cell_type": "code",
   "execution_count": 27,
   "id": "982444c1",
   "metadata": {},
   "outputs": [
    {
     "name": "stdout",
     "output_type": "stream",
     "text": [
      "Đỗ Hoàng Huệ Anh\n",
      "Nguyễn Phan Anh\n",
      "Tô Mai Phương Anh\n",
      "Trần Ngọc Anh\n",
      "Đào Thiện Bản\n",
      "Phạm Anh Chi\n",
      "Thiều Thảo Chi\n",
      "Nguyễn Bá Dương\n",
      "Lê Minh Đạt\n",
      "Đỗ Quang Đồng\n",
      "Lê Nguyễn Trường Giang\n",
      "\n"
     ]
    }
   ],
   "source": [
    "print(list_names)"
   ]
  },
  {
   "cell_type": "code",
   "execution_count": 28,
   "id": "a5001dee",
   "metadata": {},
   "outputs": [
    {
     "data": {
      "text/plain": [
       "' bft'"
      ]
     },
     "execution_count": 28,
     "metadata": {},
     "output_type": "execute_result"
    }
   ],
   "source": [
    "' bft    '.rstrip()"
   ]
  },
  {
   "cell_type": "code",
   "execution_count": 29,
   "id": "97d95545",
   "metadata": {},
   "outputs": [
    {
     "data": {
      "text/plain": [
       "'bft    '"
      ]
     },
     "execution_count": 29,
     "metadata": {},
     "output_type": "execute_result"
    }
   ],
   "source": [
    "' bft    '.lstrip()"
   ]
  },
  {
   "cell_type": "code",
   "execution_count": 30,
   "id": "c5371a4f",
   "metadata": {},
   "outputs": [
    {
     "data": {
      "text/plain": [
       "'bft'"
      ]
     },
     "execution_count": 30,
     "metadata": {},
     "output_type": "execute_result"
    }
   ],
   "source": [
    "' bft    '.strip()"
   ]
  },
  {
   "cell_type": "code",
   "execution_count": 31,
   "id": "f6025bd2",
   "metadata": {},
   "outputs": [
    {
     "data": {
      "text/plain": [
       "['Nguyen', 'Tuan', 'Long']"
      ]
     },
     "execution_count": 31,
     "metadata": {},
     "output_type": "execute_result"
    }
   ],
   "source": [
    "'Nguyen Tuan Long'.split()"
   ]
  },
  {
   "cell_type": "code",
   "execution_count": 32,
   "id": "79626837",
   "metadata": {},
   "outputs": [
    {
     "data": {
      "text/plain": [
       "'Nguyen Tuan Long'"
      ]
     },
     "execution_count": 32,
     "metadata": {},
     "output_type": "execute_result"
    }
   ],
   "source": [
    "\"Nguyen T Long\".replace('T', \"Tuan\")"
   ]
  },
  {
   "cell_type": "code",
   "execution_count": 33,
   "id": "76e94693",
   "metadata": {},
   "outputs": [
    {
     "name": "stdout",
     "output_type": "stream",
     "text": [
      "The Zen of Python, by Tim Peters\n",
      "\n",
      "Beautiful is better than ugly.\n",
      "Explicit is better than implicit.\n",
      "Simple is better than complex.\n",
      "Complex is better than complicated.\n",
      "Flat is better than nested.\n",
      "Sparse is better than dense.\n",
      "Readability counts.\n",
      "Special cases aren't special enough to break the rules.\n",
      "Although practicality beats purity.\n",
      "Errors should never pass silently.\n",
      "Unless explicitly silenced.\n",
      "In the face of ambiguity, refuse the temptation to guess.\n",
      "There should be one-- and preferably only one --obvious way to do it.\n",
      "Although that way may not be obvious at first unless you're Dutch.\n",
      "Now is better than never.\n",
      "Although never is often better than *right* now.\n",
      "If the implementation is hard to explain, it's a bad idea.\n",
      "If the implementation is easy to explain, it may be a good idea.\n",
      "Namespaces are one honking great idea -- let's do more of those!\n"
     ]
    }
   ],
   "source": [
    "import this"
   ]
  },
  {
   "cell_type": "code",
   "execution_count": 41,
   "id": "58b6ca42",
   "metadata": {},
   "outputs": [],
   "source": [
    "text = '''The Zen of Python, by Tim Peters\n",
    "\n",
    "Beautiful is better than ugly.\n",
    "Explicit is better than implicit.\n",
    "Simple is better than complex.\n",
    "Complex is better than complicated.\n",
    "Flat is better than nested.\n",
    "Sparse is better than dense.\n",
    "Readability counts.\n",
    "Special cases aren't special enough to break the rules.\n",
    "Although practicality beats purity.\n",
    "Errors should never pass silently.\n",
    "Unless explicitly silenced.\n",
    "In the face of ambiguity, refuse the temptation to guess.\n",
    "There should be one-- and preferably only one --obvious way to do it.\n",
    "Although that way may not be obvious at first unless you're Dutch.\n",
    "Now is better than never.\n",
    "Although never is often better than *right* now.\n",
    "If the implementation is hard to explain, it's a bad idea.\n",
    "If the implementation is easy to explain, it may be a good idea.\n",
    "Namespaces are one honking great idea -- let's do more of those!'''"
   ]
  },
  {
   "cell_type": "code",
   "execution_count": 44,
   "id": "6f2a014d",
   "metadata": {},
   "outputs": [],
   "source": [
    "#normalize\n",
    "text = text.lower()\n",
    "text = text.replace('.',' ')\n",
    "text = text.replace(',',' ')\n",
    "text = text.replace('*',' ')\n",
    "text = text.replace('-',' ')\n",
    "text = text.replace('!',' ')"
   ]
  },
  {
   "cell_type": "code",
   "execution_count": 45,
   "id": "7d33a494",
   "metadata": {},
   "outputs": [
    {
     "name": "stdout",
     "output_type": "stream",
     "text": [
      "the zen of python  by tim peters\n",
      "\n",
      "beautiful is better than ugly \n",
      "explicit is better than implicit \n",
      "simple is better than complex \n",
      "complex is better than complicated \n",
      "flat is better than nested \n",
      "sparse is better than dense \n",
      "readability counts \n",
      "special cases aren't special enough to break the rules \n",
      "although practicality beats purity \n",
      "errors should never pass silently \n",
      "unless explicitly silenced \n",
      "in the face of ambiguity  refuse the temptation to guess \n",
      "there should be one   and preferably only one   obvious way to do it \n",
      "although that way may not be obvious at first unless you're dutch \n",
      "now is better than never \n",
      "although never is often better than  right  now \n",
      "if the implementation is hard to explain  it's a bad idea \n",
      "if the implementation is easy to explain  it may be a good idea \n",
      "namespaces are one honking great idea    let's do more of those \n"
     ]
    }
   ],
   "source": [
    "print(text)"
   ]
  },
  {
   "cell_type": "markdown",
   "id": "dc082e05",
   "metadata": {},
   "source": [
    "**2-3. Personal Message:** Use a variable to represent a person’s name, and print\n",
    "a message to that person. Your message should be simple, such as, “Hello Eric,\n",
    "would you like to learn some Python today?”\n"
   ]
  },
  {
   "cell_type": "markdown",
   "id": "fd744344",
   "metadata": {},
   "source": [
    "**2-4. Name Cases:** Use a variable to represent a person’s name, and then print\n",
    "that person’s name in lowercase, uppercase, and title case.\n"
   ]
  },
  {
   "cell_type": "code",
   "execution_count": null,
   "id": "29a5fb7c",
   "metadata": {},
   "outputs": [],
   "source": []
  },
  {
   "cell_type": "markdown",
   "id": "fc1026ad",
   "metadata": {},
   "source": [
    "2-5. Famous Quote: Find a quote from a famous person you admire. Print the\n",
    "quote and the name of its author. Your output should look something like the\n",
    "following, including the quotation marks:\n",
    "Albert Einstein once said, “A person who never made a\n",
    "mistake never tried anything new.”\n"
   ]
  },
  {
   "cell_type": "markdown",
   "id": "c705e80b",
   "metadata": {},
   "source": [
    "\n",
    "2-6. Famous Quote 2: Repeat Exercise 2-5, but this time, represent the\n",
    "famous person’s name using a variable called famous_person. Then compose\n",
    "your message and represent it with a new variable called message. Print your\n",
    "message.\n"
   ]
  },
  {
   "cell_type": "markdown",
   "id": "867071b5",
   "metadata": {},
   "source": [
    "\n",
    "2-7. Stripping Names: Use a variable to represent a person’s name, and include\n",
    "some whitespace characters at the beginning and end of the name. Make sure\n",
    "you use each character combination, \"\\t\" and \"\\n\", at least once.\n",
    "Print the name once, so the whitespace around the name is displayed.\n",
    "Then print the name using each of the three stripping functions, lstrip(),\n",
    "rstrip(), and strip()."
   ]
  },
  {
   "cell_type": "code",
   "execution_count": null,
   "id": "74645063",
   "metadata": {},
   "outputs": [
    {
     "data": {
      "text/plain": [
       "int"
      ]
     },
     "execution_count": 46,
     "metadata": {},
     "output_type": "execute_result"
    }
   ],
   "source": [
    "type(1) #comment, int32, int64,"
   ]
  },
  {
   "cell_type": "code",
   "execution_count": null,
   "id": "89a6c34c",
   "metadata": {},
   "outputs": [
    {
     "data": {
      "text/plain": [
       "float"
      ]
     },
     "execution_count": 47,
     "metadata": {},
     "output_type": "execute_result"
    }
   ],
   "source": [
    "type(1.0) #float64,"
   ]
  },
  {
   "cell_type": "code",
   "execution_count": 48,
   "id": "e1b7a265",
   "metadata": {},
   "outputs": [
    {
     "data": {
      "text/plain": [
       "float"
      ]
     },
     "execution_count": 48,
     "metadata": {},
     "output_type": "execute_result"
    }
   ],
   "source": [
    "type(1 + 1.0)"
   ]
  },
  {
   "cell_type": "code",
   "execution_count": 49,
   "id": "1091e1e0",
   "metadata": {},
   "outputs": [
    {
     "data": {
      "text/plain": [
       "bool"
      ]
     },
     "execution_count": 49,
     "metadata": {},
     "output_type": "execute_result"
    }
   ],
   "source": [
    "type(1>2)"
   ]
  },
  {
   "cell_type": "code",
   "execution_count": 50,
   "id": "31a37957",
   "metadata": {},
   "outputs": [
    {
     "data": {
      "text/plain": [
       "False"
      ]
     },
     "execution_count": 50,
     "metadata": {},
     "output_type": "execute_result"
    }
   ],
   "source": [
    "0.1 + 0.1 + 0.1 == 0.3"
   ]
  },
  {
   "cell_type": "code",
   "execution_count": 51,
   "id": "7fd0db41",
   "metadata": {},
   "outputs": [
    {
     "data": {
      "text/plain": [
       "0.30000000000000004"
      ]
     },
     "execution_count": 51,
     "metadata": {},
     "output_type": "execute_result"
    }
   ],
   "source": [
    "0.1 + 0.1 + 0.1"
   ]
  },
  {
   "cell_type": "code",
   "execution_count": null,
   "id": "b5f1e919",
   "metadata": {},
   "outputs": [
    {
     "data": {
      "text/plain": [
       "True"
      ]
     },
     "execution_count": 53,
     "metadata": {},
     "output_type": "execute_result"
    }
   ],
   "source": [
    "1 +1 + 1 == 3"
   ]
  },
  {
   "cell_type": "code",
   "execution_count": 54,
   "id": "e500f8f4",
   "metadata": {},
   "outputs": [
    {
     "data": {
      "text/plain": [
       "'234234'"
      ]
     },
     "execution_count": 54,
     "metadata": {},
     "output_type": "execute_result"
    }
   ],
   "source": [
    "str(234234)"
   ]
  },
  {
   "cell_type": "code",
   "execution_count": 56,
   "id": "6ccb8e0f",
   "metadata": {},
   "outputs": [
    {
     "data": {
      "text/plain": [
       "2.0"
      ]
     },
     "execution_count": 56,
     "metadata": {},
     "output_type": "execute_result"
    }
   ],
   "source": [
    "float(\"2.0\")"
   ]
  },
  {
   "cell_type": "code",
   "execution_count": 57,
   "id": "d6527185",
   "metadata": {},
   "outputs": [
    {
     "data": {
      "text/plain": [
       "32131"
      ]
     },
     "execution_count": 57,
     "metadata": {},
     "output_type": "execute_result"
    }
   ],
   "source": [
    "int(\"32131\")"
   ]
  },
  {
   "cell_type": "code",
   "execution_count": 58,
   "id": "f534ff11",
   "metadata": {},
   "outputs": [
    {
     "ename": "ValueError",
     "evalue": "could not convert string to float: '2.0a'",
     "output_type": "error",
     "traceback": [
      "\u001b[1;31m---------------------------------------------------------------------------\u001b[0m",
      "\u001b[1;31mValueError\u001b[0m                                Traceback (most recent call last)",
      "Cell \u001b[1;32mIn[58], line 1\u001b[0m\n\u001b[1;32m----> 1\u001b[0m \u001b[38;5;28;43mfloat\u001b[39;49m\u001b[43m(\u001b[49m\u001b[38;5;124;43m\"\u001b[39;49m\u001b[38;5;124;43m2.0a\u001b[39;49m\u001b[38;5;124;43m\"\u001b[39;49m\u001b[43m)\u001b[49m\n",
      "\u001b[1;31mValueError\u001b[0m: could not convert string to float: '2.0a'"
     ]
    }
   ],
   "source": [
    "float(\"2.0a\")"
   ]
  },
  {
   "cell_type": "code",
   "execution_count": 61,
   "id": "4fe4ef20",
   "metadata": {},
   "outputs": [
    {
     "name": "stdout",
     "output_type": "stream",
     "text": [
      "Wellcome Mai\n"
     ]
    }
   ],
   "source": [
    "name = input(\"What is your name?\")\n",
    "print(\"Wellcome {}\".format(name.title()))"
   ]
  },
  {
   "cell_type": "code",
   "execution_count": null,
   "id": "34e7ce2e",
   "metadata": {},
   "outputs": [],
   "source": [
    "age = input(\"How old are you?\") # always str"
   ]
  },
  {
   "cell_type": "code",
   "execution_count": 64,
   "id": "b82e5d77",
   "metadata": {},
   "outputs": [
    {
     "name": "stdout",
     "output_type": "stream",
     "text": [
      "44\n"
     ]
    },
    {
     "data": {
      "text/plain": [
       "int"
      ]
     },
     "execution_count": 64,
     "metadata": {},
     "output_type": "execute_result"
    }
   ],
   "source": [
    "age = int(input(\"How old are you?\"))\n",
    "print(age)\n",
    "type(age)"
   ]
  },
  {
   "cell_type": "code",
   "execution_count": null,
   "id": "62131946",
   "metadata": {},
   "outputs": [],
   "source": []
  }
 ],
 "metadata": {
  "kernelspec": {
   "display_name": "env-teaching",
   "language": "python",
   "name": "python3"
  },
  "language_info": {
   "codemirror_mode": {
    "name": "ipython",
    "version": 3
   },
   "file_extension": ".py",
   "mimetype": "text/x-python",
   "name": "python",
   "nbconvert_exporter": "python",
   "pygments_lexer": "ipython3",
   "version": "3.11.7"
  }
 },
 "nbformat": 4,
 "nbformat_minor": 5
}
